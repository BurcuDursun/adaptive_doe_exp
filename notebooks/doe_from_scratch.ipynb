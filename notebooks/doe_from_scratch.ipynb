{
 "cells": [
  {
   "cell_type": "code",
   "execution_count": null,
   "metadata": {},
   "outputs": [],
   "source": [
    "from datetime import timedelta\n",
    "import os\n",
    "import logging\n",
    "import time\n",
    "import numpy as np\n",
    "\n",
    "from _submodules.paryopt.PARyOpt import paryopt\n",
    "from _submodules.paryopt.PARyOpt.evaluators import async_parse_result_local\n",
    "from _submodules.paryopt.PARyOpt.evaluators import paryopt_async"
   ]
  },
  {
   "cell_type": "code",
   "execution_count": null,
   "metadata": {
    "pycharm": {
     "name": "#%%\n"
    }
   },
   "outputs": [],
   "source": [
    "# The user has to define the mapping from actual space to optimization space. One default usage is given here:\n",
    "\n",
    "# parameter names:\n",
    "parameter_names = ['donor ratio', 'concentration', 'spin speed', 'annealing temperature', 'additive amount']\n",
    "# lower limits\n",
    "l_limit = np.asarray([0, 0, 0., 0., 0.])\n",
    "# upper limits\n",
    "u_limit = np.asarray([1., 1., 1., 1., 1.])\n",
    "\n",
    "def scale_down_parameters(x: np.array) -> np.array:\n",
    "    x_new = x.copy()\n",
    "    for i,val in enumerate(x):\n",
    "        x_new[i] = (val - l_limit[i]) / (u_limit[i] - l_limit[i])\n",
    "    return x_new\n",
    "\n",
    "\n",
    "def scale_up_parameters(x: np.array) -> np.array:\n",
    "    x_new = x.copy()\n",
    "    for i,val in enumerate(x):\n",
    "        x_new[i] = l_limit[i] + val * (u_limit[i] - l_limit[i])\n",
    "    return x_new"
   ]
  },
  {
   "cell_type": "code",
   "execution_count": null,
   "metadata": {
    "pycharm": {
     "name": "#%%\n"
    }
   },
   "outputs": [],
   "source": [
    "# Set up functions for running experiments\n",
    "\n",
    "def folder_generator(directory, x) -> None:\n",
    "    \"\"\"\n",
    "    prepares a given folder for performing the simulations. The cost function (out-of-script) will be executed\n",
    "    in this directory for location x. Typically this involves writing a config file, generating/copying meshes and\n",
    "\n",
    "    In our example, we are running a simple case and so does not require any files to be filled. We shall pass the\n",
    "    location of cost function as a command line argument\n",
    "    :param directory:\n",
    "    :param x:\n",
    "    :return:\n",
    "    \"\"\"\n",
    "    with open(os.path.join(directory, 'x.txt'), 'w') as f:\n",
    "        actual_param = scale_up_parameters(x)\n",
    "        f.write(', '.join(parameter_names))\n",
    "        f.write('\\n')\n",
    "        f.write(', '.join([str(i) for i in actual_param]))\n",
    "    with open(os.path.join(directory, 'y.txt'), 'w') as f:\n",
    "        f.write('\\n')\n",
    "    with open(os.path.join(directory, 'if_parse.txt'), 'w') as f:\n",
    "        f.write('False')\n",
    "    print('New folder created: {}'.format(directory))\n",
    "\n",
    "\n",
    "def result_parser(directory, x):\n",
    "    \"\"\"\n",
    "    Parses the result from a file and returns the cost function.\n",
    "    The file is written be the actual cost function. One can also do post processing in this function and return the\n",
    "    subsequent value. Based on the construct of our cost function example3_evaluator.py, the generated result.txt\n",
    "    will be in this 'directory'\n",
    "    :param directory:\n",
    "    :param x:\n",
    "    :return:\n",
    "    \"\"\"\n",
    "    with open(os.path.join(directory, 'if_parse.txt'), 'r') as f:\n",
    "        if_parse = f.readline().strip()\n",
    "    if if_parse == \"False\":\n",
    "        # cost function evaluation not yet done\n",
    "        return paryopt_async.ValueNotReady()\n",
    "    else:\n",
    "        # parse result and return\n",
    "        val = 0.0\n",
    "        with open(os.path.join(directory, 'y.txt')) as f:\n",
    "            val = float(f.readline())\n",
    "        print('Folder completed: {}!'.format(directory))\n",
    "        print('{}\\n{}\\n'.format(parameter_names, ', '.join(scale_up_parameters(x))))\n",
    "        # return negative of value because we want maximization and PARyOpt does minimization\n",
    "        return -1.0*val\n",
    "\n",
    "\n",
    "def user_defined_kappa(iter_num, freq, t_const):\n",
    "    \"\"\"\n",
    "    user defined kappa for multiple acquisition functions\n",
    "    :param iter_num:\n",
    "    :param freq:\n",
    "    :param t_const:\n",
    "    :return:\n",
    "    \"\"\"\n",
    "    kappa = 40.5 * (np.sin((iter_num+1) * np.pi / freq) + 1.5) * np.exp(-t_const *iter_num)\n",
    "    return kappa\n"
   ]
  },
  {
   "cell_type": "code",
   "execution_count": null,
   "metadata": {
    "pycharm": {
     "name": "#%% Main function\n"
    }
   },
   "outputs": [],
   "source": [
    "# logging setup\n",
    "logger = logging.getLogger()\n",
    "logger.setLevel(logging.INFO)\n",
    "fh = logging.FileHandler('muri_log_{}.log'.format(time.strftime(\"%Y.%m.%d-%H%M%S\")), mode='a')\n",
    "formatter = logging.Formatter('%(asctime)s - %(name)s - %(levelname)s - %(message)s')\n",
    "fh.setFormatter(formatter)\n",
    "logger.addHandler(fh)\n",
    "logger.info('BayesOpt for OPV additive optimization')\n",
    "\n",
    "# define basic parameters\n",
    "ndim = len(parameter_names)\n",
    "# bounds in the normalized space\n",
    "l_bound = 0.0 * np.ones(ndim)\n",
    "u_bound = 1.0 * np.ones(ndim)\n",
    "\n",
    "# experiments per iteration\n",
    "n_opt = 8\n",
    "# max number of iterations\n",
    "iter_max = 8\n",
    "\n",
    "jobs_dir = os.path.join(os.getcwd(), 'opt_jobs')"
   ]
  },
  {
   "cell_type": "code",
   "execution_count": null,
   "metadata": {
    "pycharm": {
     "name": "#%%\n"
    }
   },
   "outputs": [],
   "source": [
    "# Create cost function evaluator\n",
    "\n",
    "# parallel, asynchronous, local, manual\n",
    "evaluator = async_parse_result_local.AsyncLocalParseResultEvaluator(job_generator=folder_generator,\n",
    "                                                                    jobs_dir=jobs_dir,\n",
    "                                                                    # checks the folder every 1 minute..\n",
    "                                                                    wait_time=timedelta(minutes=1),\n",
    "                                                                    max_pending=8,\n",
    "                                                                    required_fraction=0.75)\n",
    "\n",
    "logger.info('Optimization evaluations are done in {} directory'.format(jobs_dir))\n",
    "\n",
    "# generate a list of kappa strategies (functions) that correspond to each acquisition function\n",
    "my_kappa_funcs = []\n",
    "for j in range(n_opt):\n",
    "    my_kappa_funcs.append(lambda curr_iter_num, freq=10. * (j * j + 2), t_const=0.8 / (1. + j):\n",
    "                          user_defined_kappa(curr_iter_num, freq=freq, t_const=t_const))"
   ]
  },
  {
   "cell_type": "code",
   "execution_count": null,
   "metadata": {
    "pycharm": {
     "name": "#%%\n"
    }
   },
   "outputs": [],
   "source": [
    "# Initialize\n",
    "b_opt = paryopt.BayesOpt(cost_function=evaluator,\n",
    "                         n_dim=ndim, n_opt=n_opt, n_init=4,\n",
    "                         u_bound=u_bound, l_bound=l_bound,\n",
    "                         kern_function='matern_52',\n",
    "                         acq_func='LCB', kappa_strategy=my_kappa_funcs,\n",
    "                         if_restart=False)\n",
    "logger.info('BO initialized')"
   ]
  },
  {
   "cell_type": "code",
   "execution_count": null,
   "metadata": {
    "pycharm": {
     "name": "#%%\n"
    }
   },
   "outputs": [],
   "source": [
    "# Update iterations\n",
    "for curr_iter in range(iter_max):\n",
    "    b_opt.update_iter()\n",
    "    if not curr_iter % 2:\n",
    "        b_opt.estimate_best_kernel_parameters(theta_bounds=[[0.01, 10]])"
   ]
  },
  {
   "cell_type": "code",
   "execution_count": null,
   "metadata": {
    "pycharm": {
     "name": "#%%\n"
    }
   },
   "outputs": [],
   "source": [
    "# Post process data\n",
    "\n",
    "# export cost function evaluations to a CSV file\n",
    "b_opt.export_csv(os.path.join(os.getcwd(), 'all_data.csv'))\n",
    "\n",
    "# get current best evaluated value\n",
    "best_location, best_value = b_opt.get_current_best()\n",
    "\n",
    "result_txt = 'Optimization done for {} iterations, best evaluation is at {} with cost: {}'.format(\n",
    "    b_opt.get_current_iteration(), scale_up_parameters(best_location), best_value)\n",
    "\n",
    "logger.info(result_txt)\n",
    "print(result_txt)\n",
    "logger.info('Asynchronous bayesian optimization completed!')\n"
   ]
  }
 ],
 "metadata": {
  "kernelspec": {
   "display_name": "Python 3 (ipykernel)",
   "language": "python",
   "name": "python3"
  },
  "language_info": {
   "codemirror_mode": {
    "name": "ipython",
    "version": 3
   },
   "file_extension": ".py",
   "mimetype": "text/x-python",
   "name": "python",
   "nbconvert_exporter": "python",
   "pygments_lexer": "ipython3",
   "version": "3.7.5"
  }
 },
 "nbformat": 4,
 "nbformat_minor": 1
}